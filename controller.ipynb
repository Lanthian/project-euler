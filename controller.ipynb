{
 "cells": [
  {
   "cell_type": "markdown",
   "metadata": {},
   "source": [
    "# project-euler\n",
    "Problems done:"
   ]
  },
  {
   "cell_type": "code",
   "execution_count": 1,
   "metadata": {},
   "outputs": [],
   "source": [
    "DONE = [1,2,3,4,5,6,7,8,9,10,11,12,13,14,15,16,17]\n",
    "SKIP = {12}"
   ]
  },
  {
   "cell_type": "markdown",
   "metadata": {},
   "source": [
    "Outputs:"
   ]
  },
  {
   "cell_type": "code",
   "execution_count": 2,
   "metadata": {},
   "outputs": [
    {
     "name": "stdout",
     "output_type": "stream",
     "text": [
      "001: 233168\n",
      "002: 4613732\n",
      "003: 6857\n",
      "004: 906609\n",
      "005: 232792560\n",
      "006: 25164150\n",
      "007: 104743\n",
      "008: 23514624000\n",
      "009: 31875000\n",
      "010: 142915828922\n",
      "011: 70600674\n",
      "012: ...\n",
      "013: 5537376230\n",
      "014: 837799\n",
      "015: 137846528820\n",
      "016: 1366\n",
      "017: 21124\n"
     ]
    }
   ],
   "source": [
    "# Print out each problem result\n",
    "for i in DONE:\n",
    "    problem = \"{:03d}\".format(i)\n",
    "    # Skip chosen problems\n",
    "    if i in SKIP: x = [\"...\"]\n",
    "\n",
    "    else: x = ! python -m {problem}\n",
    "    print(f\"{problem}: {x[0]}\")"
   ]
  },
  {
   "cell_type": "markdown",
   "metadata": {},
   "source": [
    "### Current"
   ]
  },
  {
   "cell_type": "code",
   "execution_count": 3,
   "metadata": {},
   "outputs": [
    {
     "name": "stdout",
     "output_type": "stream",
     "text": [
      "23514624000\n"
     ]
    }
   ],
   "source": [
    "! python -m \"008\""
   ]
  }
 ],
 "metadata": {
  "kernelspec": {
   "display_name": "Python 3",
   "language": "python",
   "name": "python3"
  },
  "language_info": {
   "codemirror_mode": {
    "name": "ipython",
    "version": 3
   },
   "file_extension": ".py",
   "mimetype": "text/x-python",
   "name": "python",
   "nbconvert_exporter": "python",
   "pygments_lexer": "ipython3",
   "version": "3.12.3"
  }
 },
 "nbformat": 4,
 "nbformat_minor": 2
}
