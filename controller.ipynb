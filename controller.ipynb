{
 "cells": [
  {
   "cell_type": "markdown",
   "metadata": {},
   "source": [
    "# project-euler\n",
    "Problems done:"
   ]
  },
  {
   "cell_type": "code",
   "execution_count": 1,
   "metadata": {},
   "outputs": [],
   "source": [
    "DONE = range(1,43+1)\n",
    "SKIP = {12}"
   ]
  },
  {
   "cell_type": "markdown",
   "metadata": {},
   "source": [
    "Outputs:"
   ]
  },
  {
   "cell_type": "code",
   "execution_count": 2,
   "metadata": {},
   "outputs": [
    {
     "name": "stdout",
     "output_type": "stream",
     "text": [
      "001: 233168\n",
      "002: 4613732\n",
      "003: 6857\n",
      "004: 906609\n",
      "005: 232792560\n",
      "006: 25164150\n",
      "007: 104743\n",
      "008: 23514624000\n",
      "009: 31875000\n",
      "010: 142913828922\n",
      "011: 70600674\n",
      "012: ...\n",
      "013: 5537376230\n",
      "014: 837799\n",
      "015: 137846528820\n",
      "016: 1366\n",
      "017: 21124\n",
      "018: 1074\n",
      "019: 171\n",
      "020: 648\n",
      "021: 31626\n",
      "022: 871198282\n",
      "023: 4179871\n",
      "024: 2783915460\n",
      "025: 4782\n",
      "026: 983\n",
      "027: -59231\n",
      "028: 669171001\n",
      "029: 9183\n",
      "030: 443839\n",
      "031: 73682\n",
      "032: 45228\n",
      "033: 100\n",
      "034: 40730\n",
      "035: 55\n",
      "036: 872187\n",
      "037: 748317\n",
      "038: 932718654\n",
      "039: 840\n",
      "040: 210\n",
      "041: 7652413\n",
      "042: 162\n",
      "043: 16695334890\n"
     ]
    }
   ],
   "source": [
    "# Print out each problem result\n",
    "for i in DONE:\n",
    "    problem = \"{:03d}\".format(i)\n",
    "    # Skip chosen problems\n",
    "    if i in SKIP: x = [\"...\"]\n",
    "\n",
    "    else: x = ! python -m {\"problems.\"+problem}\n",
    "    print(f\"{problem}: {x[0]}\")"
   ]
  },
  {
   "cell_type": "markdown",
   "metadata": {},
   "source": [
    "### Current"
   ]
  },
  {
   "cell_type": "markdown",
   "metadata": {},
   "source": [
    "Generate new problem folder"
   ]
  },
  {
   "cell_type": "code",
   "execution_count": 3,
   "metadata": {},
   "outputs": [],
   "source": [
    "from common.files import make_problem\n",
    "make_problem(43)"
   ]
  },
  {
   "cell_type": "markdown",
   "metadata": {},
   "source": [
    "Output program result"
   ]
  },
  {
   "cell_type": "code",
   "execution_count": 4,
   "metadata": {},
   "outputs": [
    {
     "name": "stdout",
     "output_type": "stream",
     "text": [
      "16695334890\n"
     ]
    }
   ],
   "source": [
    "! python -m \"problems.043\""
   ]
  }
 ],
 "metadata": {
  "kernelspec": {
   "display_name": "Python 3",
   "language": "python",
   "name": "python3"
  },
  "language_info": {
   "codemirror_mode": {
    "name": "ipython",
    "version": 3
   },
   "file_extension": ".py",
   "mimetype": "text/x-python",
   "name": "python",
   "nbconvert_exporter": "python",
   "pygments_lexer": "ipython3",
   "version": "3.12.3"
  }
 },
 "nbformat": 4,
 "nbformat_minor": 2
}
